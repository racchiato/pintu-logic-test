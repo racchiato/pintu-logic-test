{
 "cells": [
  {
   "cell_type": "code",
   "execution_count": 1,
   "metadata": {},
   "outputs": [],
   "source": [
    "# Open the prices file\n",
    "with open('prices.txt') as f:\n",
    "    prices = f.readline().split()"
   ]
  },
  {
   "cell_type": "code",
   "execution_count": 2,
   "metadata": {},
   "outputs": [],
   "source": [
    "# Loop and compare the element with the next elements\n",
    "# Store the max profit in an array\n",
    "max_profit = []\n",
    "for price in prices:\n",
    "    max = 0\n",
    "    for i in range(0, len(price)-1):\n",
    "        for j in range(i+1, len(price)):\n",
    "            if max < int(price[j]) - int(price[i]):\n",
    "                max = int(price[j]) - int(price[i])\n",
    "    max_profit.append(max)"
   ]
  },
  {
   "cell_type": "code",
   "execution_count": 11,
   "metadata": {},
   "outputs": [],
   "source": [
    "# Save the profits to a txt file\n",
    "with open(\"profits.txt\", \"w+\") as text_file:\n",
    "    text_file.writelines(' '.join(str(profit) for profit in max_profit))"
   ]
  },
  {
   "cell_type": "code",
   "execution_count": null,
   "metadata": {},
   "outputs": [],
   "source": []
  }
 ],
 "metadata": {
  "kernelspec": {
   "display_name": "Python 3",
   "language": "python",
   "name": "python3"
  },
  "language_info": {
   "codemirror_mode": {
    "name": "ipython",
    "version": 3
   },
   "file_extension": ".py",
   "mimetype": "text/x-python",
   "name": "python",
   "nbconvert_exporter": "python",
   "pygments_lexer": "ipython3",
   "version": "3.6.8"
  }
 },
 "nbformat": 4,
 "nbformat_minor": 4
}
