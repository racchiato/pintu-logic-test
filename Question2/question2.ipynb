{
 "cells": [
  {
   "cell_type": "code",
   "execution_count": 1,
   "metadata": {},
   "outputs": [],
   "source": [
    "# Given the string\n",
    "string = 'sfgxcllryzidycpfuvejapqflbgtdacwijgdemiyezmtpiewrycvupvhkajctvccsdvcibhkahrvimvvfhapgfmmhtjhvpqndagvigzzkhvcndjdgqwfgfwvqpndngiicpvbwmyvufptykxofduarmpsnparaqkvbcbejijbsogbzyhdqhtxnwcvnudvspndostnyhbbtuwwhimtanjuwgnqdajmqkrcoddsdvpuzzuvdovcqianfnsltwubuhguamzyzhiorxdjptxbaeuzsrllhnuktmfhckckupnmkkjvbgpesuborurxujaxutimnxoalrtholvlyreebetfvpeadnxvjwfioyzhzcqrfxvnjsykojotdchmpnuoflhaimcuqrfcxsukggerffseoqlxrzlssmfbiexrlfgsiwpyvryaqabqcgmgpmfvajwhediehtckksnzxcffsqjlnikktxndkxayullgrvtkhfywlofkhisytohrnelmqbnywywiceoqfgvplcxfuhdwmwvtizjajpmmbysgydfluzqptvkqiasnmvnecrtxhuumivebgyrqgtzchgbyljuvrmbzjfvjzzxtvdqmsdjpkdcjlcthchlhvvzlarhsxvlggyvccljdhxmlxmomealvwwrkffpbxxyuybcxqaluqvxsyhmlzyiyzvosvkejazhynawxeczxiixadtahbudjjcdqdgpcsztrjgfmqkcawqvexlbhwrntyyksackwqaqvjwzzlkijughjkbombpnhqzmuhjbsoxtehiuklnzkrrgghzzoypzduqlladuvfbywirlupdajybezhqvpgqwdwikuauyxbdtxqggwqzcimouqnpwoyqnocwvzdjfgaxqnirdkreegsvhginskcltjkvkvnaltllmuizlmfmljgteajvqwvzbijxrypkcluawaumbqsgxscodtrsqxnbtuexnidvpxpcgjojnfkerezodedalhzxpojgfypmqsgvljsxxxehdgztzmudylgpmagygtwkhwzfvicnswgirwqqdjarfkhkbbgbljrjkjfagbmlnzfkodkhuogaealgeuedqjqqzsiaiqztsszeqkdowasbcqjzurnlksbpcfqfxgkiumeruxzfegqeershjosxjudlfhvoonxmgvrrhpvkdrubvkzkchclfcvfkheqyekxthwzqvqsrxaoeczxnqruvvnhpbkzfmjzkjbjqbndxqroxmicfdyanycwmkcettxthhfkfyvjqnfcxyzqlbmdywiuvckcnykzklisknupynaforkoqnksrjoalsedgcanzswfwegcsblsbjrxagjvoboroseqbahmrvfagqtrtacpniqzahlpfnzcgfjaabpfpxvwcligovrysnuqzlcxhqnjaqhqfazkpmbognuctjdiutxaewutlushrybivenmhcaygulpgoiexgevyxjopzkhzdkgluliazklfgcqnoghzcicntyzwspldzlpefcvfvwathlubuzorvuprtscslicvgncjgkeygiqdgjpblruabetphjvzcpzechvmanvhvqzjdcxfitlcsyfglvdphmjphxzzhalwqxefveaqyiitljxxwcwbtquvexcsohjxcdzipwslruzdlftfaxievbuicwylvpionesysqhdkblmaldxqopjnbsgjwpkvbqzzuhbbvzyuukgjxlkkhnyklghgtexubsnnajfrmquumafjmokaxcdljjyyijytbcjelsdrhvwdwxmeecmwkyoifuacyseuocjfqbtfmyheemjbnerlntxiclvtiucxqsgrtbsukfojxkxnbvlaasmpaismblobuiwyzmfknvndoufgpeuygfqwdbxsofxnkkcnjxlefgkjkmdsedaokolasrycqvttxkiscjywvvttmtukzrpitpunpzpegpdtfnafirpqulwqauupubxhkuijjoiztrzuicexqzgtjdqtempuqsaxahbykfftxarqxokldaqvkkwfwsdtlhrcsxujwemhevwnyqvxyeurxbygsujahnnwivlrlxmuvlzrqvpreyqxgcvixrqxnrvcfdywwthflixcanxcsxgtuwfqvbskjchfijxziqkgbqglypzeshzisghbmmsewoqihfgerqljubxaqhyphvosvoxwzycxycsfcuevcldkeoquaphvngzqdvezfsxepdevmqumwshqhlnfmhehoirrowqxojiosieooarkgculfaeuuyaromizqsdbpbvoeaznpucoyhkkiqbeqwxcjpefqrxdsztdnsqmizbcomxbsoohorbaplqbztcasxuxtitcwyufjuwxjlhtlgwblyqseepfluqzrgychwtxjvwlgaqoxvjoqxitspmwfiyczenghtkmfszgrcncmwwrhepehgyxjkkjswnzkdlrdphqtncmzcivaemyncavbeceouqksslgohqsykgyjasdissflvgkdrtmksdkpluveozecxfmvmmjbspfketkohiagsswixvaajonrgvwwjaaralocbjdcohfwmmcwtcwvtehpgtpobcnwnncmbimxzrdexqbjgpqbzqtklqkuhflkcpquuaartktsukdjhdvpttafthijuxnqcpddvuovzjenqqilmfdpclydexmwfjufssciaiswnppotngsbtbfgsdairxqhnhumktxfaqnfqubjwlshkoviitkspzdtjxlvpzmifxthmyqvunztxrbjqnburmcrsqsjvjzrzxmsgtlwiwgxhnhyjibsqdpufkxujytzeoptjnebjyevcuyfknkhifgstytkfuphrlryrascxnqidoahcqoltalslzxaeueqzvbrcvkummjszbwsmtjhngcipxijrugidwgoyjqtppxdwwvfoibkrszpawtbihxoyqyaahglyilvcnekgnjqsbgpztjxuyronnclycwieinrhcpxwcgfpstmweajtnaeakjmgahihfowgisgfbbbhuouuctqvfwybiyljrabmmkkcgllefermscerwmhuuykmvvshhqtqjpnmzmugcyivutcufnnprppsclrpvybintckuddppqslbozsbjcpmjthkkusmsdediacqmjgvwvvjovexvgywrxquifsjpfndzdamlinkpfurtxwvqxjmzuhfhsekgwzmfvtgefavuondfdfpctpdtbjiapjcrsyvqbcvhroxktjsposdamiljnlcfimekudsmygyakiwqnlseyifeleellftntuyyqpwfrkcmfxpavwqowiuasedjllykhapqjkwushszcbxtdbywzxeioxmgrmbzhwkbfjczntowoplbyjjwfbvtbmqqipcljlznbxnywlovqofacqcmfzlzkichqeujzajvnakxooythxttmcrwjxhkvgandktwzrubbdjtgsbwlewtputxqqndyoiplphsjhvextlwpcinodqftzgzwhgpockcyixkmskdcnbquoaxtkdfditdtozqebrzpfcxtgiumybagfqrfreahioptqwnrjukvpqdkfefoxuoqaqjdjqadgsuqnwnrbqbwmkepeqfwiauvvttrvnfwxhwyuwicqlnofhpgqdiafhomjikbdesrmksqvpyoxxqrkffvbhtgsdetzfaskgyvwycjfkeoligeqbxcssasvvqwpkgknbocelzwfjntwesmrkguleedjuvskfymdzzmbwyqachahwuhxxysnpyttvsoyitoavegmdzocfcvbuhbwguktwxuimexsafdschbtftivuoiqsjfuzlbtvzurzabmzbrddkvmniyceowaappcsmllfmvgsjhmdxfjlpgyjfhrqlbzsntjafzvxagqryuirstsqheqwdvuovwtgcnwoiiygjywyhljdmsojpntjhhhvhgsinbdtibmemshhnhsnbnbyvkdhxanhtfmgptswxpbxflfaviepkaezmlszreovtyrkzjnublyswbaiojsniawldulvknkpowpuplwklmaqnllxhvvfzyygwdhcivpequessyogugsdoiydsnlzxspjmhxbshiadicxsdirsrctzqqpfyntyadgdtmxyeryflmekumwwhzbiryjksoyjopzapngxjqyvstgpujawekrtbdnejjnvuxsmsgyslnwbhxajtrwvxkrrxxsqqsvykbdkcdtfxpzivolohvwovbyklxlccaceexrwlohryvafwbqagizctzeopkaoojgpociafslpddkfvokhzfrdzfzpoghbvztrkzeztoimksjxginjdmcogpniowavosomrltjfwjawesbihodozycftmtmeukkurqvkhqpthxgtpmcwwgxplintjkuinxtmlmlctfuwzpwygeepuhibrmtrskhofhotqkvbmbkoazkwebnotnutsearaqqqyfhfpfgzthmvtrzttoubqrffejjsrrricazjanrzaxlzvsqdsgbhtsvjcmubndbbnmqmiqeeiucmkkbhkhdjqetlogspjejbgywyhpgfhqlxlhaxbkaohplfvmdsqaerwjlifzreuzflbcehthnjmnkcxfcqqopohvrbhyecdqkvpofglyssumszmrvwghtqtknyywxmbhketgcqhzwezdmtbfdylibpmmhmhnhjrhbugwcdfswgllculmskscpwglodnnsjzxdfchvesatcjkkiwfnwbhdjimwagmmqtakxrqhefuuvvcjjtuofqanrrnucztkzhfsagvufrmqfcfybbtxouncqdndezxrvfdlbyurfgjwrtmtxndjjwogpxcycoqkvxzubcwqufytgjslhlqdfjacyykcrclgciwbiwdgmsddrkmkgcgpdxssjvqvwdfbnvjrreohsqfcmpdqwpruvgyopsjjkaylnneelonktxcorwpjenqqtwwnensyszxziwcqjdmyqaawtyuhvfwzggkywrjhesefumhuxlaphvyeobinkngrpkiqyteonwjbwhogdgubuaduogvvsnukwssrouarajrpajdhajyiehwhviocbagartrfyddhylgbipfhqrswndkawdkeakmsnfvjvpjpnduoiyycdfwmhmwlvudoxfrgruythwfocglonvzwpcgtyyhumggsqqoofyyefevlcsltcbazbedyreqnfbzbxmsyyqkgtocejpjgsrvzvaqqimmxeilonvvdjlpviwephpfoqoiqbxakkosyzvdrfvukadltxlaywzhxqjrxqgqdjiamazvtxbfqrjwoflhvrohnbgpcsjgahunthgfssltdcwhabwckqjwlewayyzfotezklirhcestltpgfhleqsauoudpfdelcisyknhanhtdavmitpqrijlzeigepxeszvkgsltqeshhzkbjyifrqsjpkflcwgiyfirladuqedfkhhtgvmqhynacsiwfxicfsxslboqmcairuomrlohppnrprgjtroyjvsdhvgeyqkuuqgphumyvmxfygjftgwjdlymaqauggfnrigblllyfkatywglxolavtojktndjcinaqzvvzhzdyciidlfceeozwpoxmjvbbdvikltrxbhyrargwwzqouufjwiqsawrmhpodbeuhcuimpwhawxvdfanfrbcgjutjyzvuihrtczxnyxcehfdcyskzblktrwqvejemshphbysykkkcyipwyuzlhoztdbkigcoavkfpeedplykxbuphkjpfecmfkjltloclkxdbfwslfhbjqrtgkvvxxnqyrlzwiyvxprhvnbjyvafepzauabjioteotsjvvueucoibulddibhjadlkpwdnrfxtivgplbnercecmpsgfxnufnaykeulrsijvkhexdomrdlxkuzgngliiezswxsgcssgrxzchxkcgyjgzkmkphcybosobmsrztiaobaptwlljecyijxpaatdemhyepclesqkkrniwdrziilbffsmvdpvhdmqcdjnpxjzmaqlimbsgemsvyyidzcwbtztuuchmewibzvzdobmrxleylcavahkrqnfyyutelgenmenxpgojvgzhgjfzwwlgysdzwguejktrjrtptcujvmiwowqbgpcgxxrunkahdrkfwudllozrxcgbtoqmelxejmlcivyotgyigngrekjlbhsrinetskgkpgohfeuhsrqorkfkffekgmxsgeicnjsnnzlwtutamezratyrwufzlniqymrwudbhzerezshxgul'"
   ]
  },
  {
   "cell_type": "code",
   "execution_count": 2,
   "metadata": {},
   "outputs": [
    {
     "name": "stdout",
     "output_type": "stream",
     "text": [
      "sfgxclryzidpuvejaqbtwmhkno\n"
     ]
    }
   ],
   "source": [
    "# Initialize empty string\n",
    "first = ''\n",
    "\n",
    "# Loop and concate the distinct chars\n",
    "for char in string:\n",
    "    if char not in first:\n",
    "        first = first + char\n",
    "\n",
    "print(first)"
   ]
  },
  {
   "cell_type": "code",
   "execution_count": 3,
   "metadata": {},
   "outputs": [
    {
     "name": "stdout",
     "output_type": "stream",
     "text": [
      "abcdefghijklmnopqrstuvwxyz\n"
     ]
    }
   ],
   "source": [
    "# Initialize empty string\n",
    "smallest = ''\n",
    "\n",
    "# Loop and concate the distinct chars\n",
    "for i in range(0, len(string)):\n",
    "    # Append if not exist\n",
    "    if string[i] not in smallest:\n",
    "        smallest = smallest + string[i]\n",
    "    # If exist, check whether it's larger than the char next to it    \n",
    "    else:\n",
    "        # Find the index\n",
    "        current = smallest.find(string[i])\n",
    "        # Check if it's the last in the list\n",
    "        if not current == len(smallest)-1: \n",
    "            # Delete and append if it's order is bigger than the char next to it\n",
    "            if smallest[current] > smallest[current+1]:\n",
    "                smallest = smallest[:current] + smallest[current+1:]\n",
    "                smallest = smallest + string[i]\n",
    "            \n",
    "\n",
    "print(smallest)"
   ]
  }
 ],
 "metadata": {
  "kernelspec": {
   "display_name": "Python 3",
   "language": "python",
   "name": "python3"
  },
  "language_info": {
   "codemirror_mode": {
    "name": "ipython",
    "version": 3
   },
   "file_extension": ".py",
   "mimetype": "text/x-python",
   "name": "python",
   "nbconvert_exporter": "python",
   "pygments_lexer": "ipython3",
   "version": "3.6.8"
  }
 },
 "nbformat": 4,
 "nbformat_minor": 4
}
